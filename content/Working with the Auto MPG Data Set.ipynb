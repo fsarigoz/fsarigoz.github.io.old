{
 "cells": [
  {
   "cell_type": "markdown",
   "metadata": {},
   "source": [
    "# Working with the Auto MPG Data Set\n",
    "\n",
    "In this post we will look into the [`Auto MPG`](https://archive.ics.uci.edu/ml/datasets/Auto+MPG) data set and clean it so that it is ready for further use. \n",
    "\n",
    "This data set shows the `mpg` of a group of car models produced in the 1970s and the 1980s along with some characteristic information associated with each model. More information about the data set can be found [here](https://archive.ics.uci.edu/ml/machine-learning-databases/auto-mpg/auto-mpg.names)."
   ]
  },
  {
   "cell_type": "markdown",
   "metadata": {},
   "source": [
    "***\n",
    "## 1. Download and Load Data File"
   ]
  },
  {
   "cell_type": "markdown",
   "metadata": {},
   "source": [
    "Download the [`auto-mpg.data`](https://archive.ics.uci.edu/ml/machine-learning-databases/auto-mpg/auto-mpg.data) data file and save it to the local directory where you would run the code on this page. "
   ]
  },
  {
   "cell_type": "code",
   "execution_count": 22,
   "metadata": {
    "collapsed": false
   },
   "outputs": [
    {
     "name": "stdout",
     "output_type": "stream",
     "text": [
      "(398, 9)\n"
     ]
    },
    {
     "data": {
      "text/html": [
       "<div>\n",
       "<table border=\"1\" class=\"dataframe\">\n",
       "  <thead>\n",
       "    <tr style=\"text-align: right;\">\n",
       "      <th></th>\n",
       "      <th>mpg</th>\n",
       "      <th>cylinders</th>\n",
       "      <th>displacement</th>\n",
       "      <th>horsepower</th>\n",
       "      <th>weight</th>\n",
       "      <th>acceleration</th>\n",
       "      <th>year</th>\n",
       "      <th>origin</th>\n",
       "      <th>name</th>\n",
       "    </tr>\n",
       "  </thead>\n",
       "  <tbody>\n",
       "    <tr>\n",
       "      <th>0</th>\n",
       "      <td>18.0</td>\n",
       "      <td>8</td>\n",
       "      <td>307.0</td>\n",
       "      <td>130.0</td>\n",
       "      <td>3504.0</td>\n",
       "      <td>12.0</td>\n",
       "      <td>70</td>\n",
       "      <td>1</td>\n",
       "      <td>chevrolet chevelle malibu</td>\n",
       "    </tr>\n",
       "    <tr>\n",
       "      <th>1</th>\n",
       "      <td>15.0</td>\n",
       "      <td>8</td>\n",
       "      <td>350.0</td>\n",
       "      <td>165.0</td>\n",
       "      <td>3693.0</td>\n",
       "      <td>11.5</td>\n",
       "      <td>70</td>\n",
       "      <td>1</td>\n",
       "      <td>buick skylark 320</td>\n",
       "    </tr>\n",
       "    <tr>\n",
       "      <th>2</th>\n",
       "      <td>18.0</td>\n",
       "      <td>8</td>\n",
       "      <td>318.0</td>\n",
       "      <td>150.0</td>\n",
       "      <td>3436.0</td>\n",
       "      <td>11.0</td>\n",
       "      <td>70</td>\n",
       "      <td>1</td>\n",
       "      <td>plymouth satellite</td>\n",
       "    </tr>\n",
       "    <tr>\n",
       "      <th>3</th>\n",
       "      <td>16.0</td>\n",
       "      <td>8</td>\n",
       "      <td>304.0</td>\n",
       "      <td>150.0</td>\n",
       "      <td>3433.0</td>\n",
       "      <td>12.0</td>\n",
       "      <td>70</td>\n",
       "      <td>1</td>\n",
       "      <td>amc rebel sst</td>\n",
       "    </tr>\n",
       "    <tr>\n",
       "      <th>4</th>\n",
       "      <td>17.0</td>\n",
       "      <td>8</td>\n",
       "      <td>302.0</td>\n",
       "      <td>140.0</td>\n",
       "      <td>3449.0</td>\n",
       "      <td>10.5</td>\n",
       "      <td>70</td>\n",
       "      <td>1</td>\n",
       "      <td>ford torino</td>\n",
       "    </tr>\n",
       "  </tbody>\n",
       "</table>\n",
       "</div>"
      ],
      "text/plain": [
       "    mpg  cylinders  displacement horsepower  weight  acceleration  year  \\\n",
       "0  18.0          8         307.0      130.0  3504.0          12.0    70   \n",
       "1  15.0          8         350.0      165.0  3693.0          11.5    70   \n",
       "2  18.0          8         318.0      150.0  3436.0          11.0    70   \n",
       "3  16.0          8         304.0      150.0  3433.0          12.0    70   \n",
       "4  17.0          8         302.0      140.0  3449.0          10.5    70   \n",
       "\n",
       "   origin                       name  \n",
       "0       1  chevrolet chevelle malibu  \n",
       "1       1          buick skylark 320  \n",
       "2       1         plymouth satellite  \n",
       "3       1              amc rebel sst  \n",
       "4       1                ford torino  "
      ]
     },
     "execution_count": 22,
     "metadata": {},
     "output_type": "execute_result"
    }
   ],
   "source": [
    "import pandas as pd\n",
    "filename = \"auto-mpg.data\"\n",
    "column_names = ['mpg', 'cylinders', 'displacement', 'horsepower', 'weight', 'acceleration', 'year', 'origin', 'name']\n",
    "df = pd.read_csv(filename, delim_whitespace=True, names=column_names)\n",
    "\n",
    "print df.shape\n",
    "df.head(5)"
   ]
  },
  {
   "cell_type": "markdown",
   "metadata": {},
   "source": [
    "The data has 9 columns (features) and 397 entries. Of the 9 columns, 8 are numerical. The labeling on the `origin` column is `1` for domestic, `2` for Europe and `3` for Asia. This data set is typically used to learn and predict the `mpg` column using the remaining columns. \n",
    "\n"
   ]
  },
  {
   "cell_type": "markdown",
   "metadata": {},
   "source": [
    "***\n",
    "## 2. Cleaning the Data"
   ]
  },
  {
   "cell_type": "markdown",
   "metadata": {},
   "source": [
    "Upon close inspection we find that there 5 missing values in the `horsepower` column and that they have been entered as \"`?`\"s:"
   ]
  },
  {
   "cell_type": "code",
   "execution_count": 23,
   "metadata": {
    "collapsed": false
   },
   "outputs": [
    {
     "data": {
      "text/html": [
       "<div>\n",
       "<table border=\"1\" class=\"dataframe\">\n",
       "  <thead>\n",
       "    <tr style=\"text-align: right;\">\n",
       "      <th></th>\n",
       "      <th>mpg</th>\n",
       "      <th>cylinders</th>\n",
       "      <th>displacement</th>\n",
       "      <th>horsepower</th>\n",
       "      <th>weight</th>\n",
       "      <th>acceleration</th>\n",
       "      <th>year</th>\n",
       "      <th>origin</th>\n",
       "      <th>name</th>\n",
       "    </tr>\n",
       "  </thead>\n",
       "  <tbody>\n",
       "    <tr>\n",
       "      <th>32</th>\n",
       "      <td>25.0</td>\n",
       "      <td>4</td>\n",
       "      <td>98.0</td>\n",
       "      <td>?</td>\n",
       "      <td>2046.0</td>\n",
       "      <td>19.0</td>\n",
       "      <td>71</td>\n",
       "      <td>1</td>\n",
       "      <td>ford pinto</td>\n",
       "    </tr>\n",
       "    <tr>\n",
       "      <th>126</th>\n",
       "      <td>21.0</td>\n",
       "      <td>6</td>\n",
       "      <td>200.0</td>\n",
       "      <td>?</td>\n",
       "      <td>2875.0</td>\n",
       "      <td>17.0</td>\n",
       "      <td>74</td>\n",
       "      <td>1</td>\n",
       "      <td>ford maverick</td>\n",
       "    </tr>\n",
       "    <tr>\n",
       "      <th>330</th>\n",
       "      <td>40.9</td>\n",
       "      <td>4</td>\n",
       "      <td>85.0</td>\n",
       "      <td>?</td>\n",
       "      <td>1835.0</td>\n",
       "      <td>17.3</td>\n",
       "      <td>80</td>\n",
       "      <td>2</td>\n",
       "      <td>renault lecar deluxe</td>\n",
       "    </tr>\n",
       "    <tr>\n",
       "      <th>336</th>\n",
       "      <td>23.6</td>\n",
       "      <td>4</td>\n",
       "      <td>140.0</td>\n",
       "      <td>?</td>\n",
       "      <td>2905.0</td>\n",
       "      <td>14.3</td>\n",
       "      <td>80</td>\n",
       "      <td>1</td>\n",
       "      <td>ford mustang cobra</td>\n",
       "    </tr>\n",
       "    <tr>\n",
       "      <th>354</th>\n",
       "      <td>34.5</td>\n",
       "      <td>4</td>\n",
       "      <td>100.0</td>\n",
       "      <td>?</td>\n",
       "      <td>2320.0</td>\n",
       "      <td>15.8</td>\n",
       "      <td>81</td>\n",
       "      <td>2</td>\n",
       "      <td>renault 18i</td>\n",
       "    </tr>\n",
       "    <tr>\n",
       "      <th>374</th>\n",
       "      <td>23.0</td>\n",
       "      <td>4</td>\n",
       "      <td>151.0</td>\n",
       "      <td>?</td>\n",
       "      <td>3035.0</td>\n",
       "      <td>20.5</td>\n",
       "      <td>82</td>\n",
       "      <td>1</td>\n",
       "      <td>amc concord dl</td>\n",
       "    </tr>\n",
       "  </tbody>\n",
       "</table>\n",
       "</div>"
      ],
      "text/plain": [
       "      mpg  cylinders  displacement horsepower  weight  acceleration  year  \\\n",
       "32   25.0          4          98.0          ?  2046.0          19.0    71   \n",
       "126  21.0          6         200.0          ?  2875.0          17.0    74   \n",
       "330  40.9          4          85.0          ?  1835.0          17.3    80   \n",
       "336  23.6          4         140.0          ?  2905.0          14.3    80   \n",
       "354  34.5          4         100.0          ?  2320.0          15.8    81   \n",
       "374  23.0          4         151.0          ?  3035.0          20.5    82   \n",
       "\n",
       "     origin                  name  \n",
       "32        1            ford pinto  \n",
       "126       1         ford maverick  \n",
       "330       2  renault lecar deluxe  \n",
       "336       1    ford mustang cobra  \n",
       "354       2           renault 18i  \n",
       "374       1        amc concord dl  "
      ]
     },
     "execution_count": 23,
     "metadata": {},
     "output_type": "execute_result"
    }
   ],
   "source": [
    "horsepower_missing_ind = df[df.horsepower=='?'].index\n",
    "df.loc[horsepower_missing_ind]"
   ]
  },
  {
   "cell_type": "code",
   "execution_count": 24,
   "metadata": {
    "collapsed": false
   },
   "outputs": [
    {
     "data": {
      "text/plain": [
       "mpg             float64\n",
       "cylinders         int64\n",
       "displacement    float64\n",
       "horsepower       object\n",
       "weight          float64\n",
       "acceleration    float64\n",
       "year              int64\n",
       "origin            int64\n",
       "name             object\n",
       "dtype: object"
      ]
     },
     "execution_count": 24,
     "metadata": {},
     "output_type": "execute_result"
    }
   ],
   "source": [
    "df.dtypes"
   ]
  },
  {
   "cell_type": "markdown",
   "metadata": {},
   "source": [
    "We have another problem. The `horsepower` column appears as an `object`. We need to convert it to `float` or `int`. "
   ]
  },
  {
   "cell_type": "markdown",
   "metadata": {},
   "source": [
    "One way to fix the missing value problem is to fill in those locations with the mean value of the `horsepower` data. To be able to do that we first assign `NaN` to the missing data locations, change the data type of the `horsepower` column to `float` and then assign each missing location the mean value of the column."
   ]
  },
  {
   "cell_type": "code",
   "execution_count": 25,
   "metadata": {
    "collapsed": false
   },
   "outputs": [],
   "source": [
    "df.loc[horsepower_missing_ind, 'horsepower'] = float('nan')\n",
    "df.horsepower = df.horsepower.apply(pd.to_numeric)\n",
    "df.loc[horsepower_missing_ind, 'horsepower'] = int( df.horsepower.mean() )"
   ]
  },
  {
   "cell_type": "markdown",
   "metadata": {},
   "source": [
    "Now, things are in order and the statistics should come out fine. We can use the `dataframe.describe()` function to get a quick idea of the statistics of the data. "
   ]
  },
  {
   "cell_type": "code",
   "execution_count": 26,
   "metadata": {
    "collapsed": false
   },
   "outputs": [
    {
     "data": {
      "text/html": [
       "<div>\n",
       "<table border=\"1\" class=\"dataframe\">\n",
       "  <thead>\n",
       "    <tr style=\"text-align: right;\">\n",
       "      <th></th>\n",
       "      <th>mpg</th>\n",
       "      <th>cylinders</th>\n",
       "      <th>displacement</th>\n",
       "      <th>horsepower</th>\n",
       "      <th>weight</th>\n",
       "      <th>acceleration</th>\n",
       "      <th>year</th>\n",
       "      <th>origin</th>\n",
       "    </tr>\n",
       "  </thead>\n",
       "  <tbody>\n",
       "    <tr>\n",
       "      <th>count</th>\n",
       "      <td>398.00</td>\n",
       "      <td>398.00</td>\n",
       "      <td>398.00</td>\n",
       "      <td>398.00</td>\n",
       "      <td>398.00</td>\n",
       "      <td>398.00</td>\n",
       "      <td>398.00</td>\n",
       "      <td>398.00</td>\n",
       "    </tr>\n",
       "    <tr>\n",
       "      <th>mean</th>\n",
       "      <td>23.51</td>\n",
       "      <td>5.45</td>\n",
       "      <td>193.43</td>\n",
       "      <td>104.46</td>\n",
       "      <td>2970.42</td>\n",
       "      <td>15.57</td>\n",
       "      <td>76.01</td>\n",
       "      <td>1.57</td>\n",
       "    </tr>\n",
       "    <tr>\n",
       "      <th>std</th>\n",
       "      <td>7.82</td>\n",
       "      <td>1.70</td>\n",
       "      <td>104.27</td>\n",
       "      <td>38.20</td>\n",
       "      <td>846.84</td>\n",
       "      <td>2.76</td>\n",
       "      <td>3.70</td>\n",
       "      <td>0.80</td>\n",
       "    </tr>\n",
       "    <tr>\n",
       "      <th>min</th>\n",
       "      <td>9.00</td>\n",
       "      <td>3.00</td>\n",
       "      <td>68.00</td>\n",
       "      <td>46.00</td>\n",
       "      <td>1613.00</td>\n",
       "      <td>8.00</td>\n",
       "      <td>70.00</td>\n",
       "      <td>1.00</td>\n",
       "    </tr>\n",
       "    <tr>\n",
       "      <th>25%</th>\n",
       "      <td>17.50</td>\n",
       "      <td>4.00</td>\n",
       "      <td>104.25</td>\n",
       "      <td>76.00</td>\n",
       "      <td>2223.75</td>\n",
       "      <td>13.83</td>\n",
       "      <td>73.00</td>\n",
       "      <td>1.00</td>\n",
       "    </tr>\n",
       "    <tr>\n",
       "      <th>50%</th>\n",
       "      <td>23.00</td>\n",
       "      <td>4.00</td>\n",
       "      <td>148.50</td>\n",
       "      <td>95.00</td>\n",
       "      <td>2803.50</td>\n",
       "      <td>15.50</td>\n",
       "      <td>76.00</td>\n",
       "      <td>1.00</td>\n",
       "    </tr>\n",
       "    <tr>\n",
       "      <th>75%</th>\n",
       "      <td>29.00</td>\n",
       "      <td>8.00</td>\n",
       "      <td>262.00</td>\n",
       "      <td>125.00</td>\n",
       "      <td>3608.00</td>\n",
       "      <td>17.17</td>\n",
       "      <td>79.00</td>\n",
       "      <td>2.00</td>\n",
       "    </tr>\n",
       "    <tr>\n",
       "      <th>max</th>\n",
       "      <td>46.60</td>\n",
       "      <td>8.00</td>\n",
       "      <td>455.00</td>\n",
       "      <td>230.00</td>\n",
       "      <td>5140.00</td>\n",
       "      <td>24.80</td>\n",
       "      <td>82.00</td>\n",
       "      <td>3.00</td>\n",
       "    </tr>\n",
       "  </tbody>\n",
       "</table>\n",
       "</div>"
      ],
      "text/plain": [
       "          mpg  cylinders  displacement  horsepower   weight  acceleration  \\\n",
       "count  398.00     398.00        398.00      398.00   398.00        398.00   \n",
       "mean    23.51       5.45        193.43      104.46  2970.42         15.57   \n",
       "std      7.82       1.70        104.27       38.20   846.84          2.76   \n",
       "min      9.00       3.00         68.00       46.00  1613.00          8.00   \n",
       "25%     17.50       4.00        104.25       76.00  2223.75         13.83   \n",
       "50%     23.00       4.00        148.50       95.00  2803.50         15.50   \n",
       "75%     29.00       8.00        262.00      125.00  3608.00         17.17   \n",
       "max     46.60       8.00        455.00      230.00  5140.00         24.80   \n",
       "\n",
       "         year  origin  \n",
       "count  398.00  398.00  \n",
       "mean    76.01    1.57  \n",
       "std      3.70    0.80  \n",
       "min     70.00    1.00  \n",
       "25%     73.00    1.00  \n",
       "50%     76.00    1.00  \n",
       "75%     79.00    2.00  \n",
       "max     82.00    3.00  "
      ]
     },
     "execution_count": 26,
     "metadata": {},
     "output_type": "execute_result"
    }
   ],
   "source": [
    "pd.set_option('precision', 2)\n",
    "# display stats of the features\n",
    "df.describe()"
   ]
  },
  {
   "cell_type": "markdown",
   "metadata": {},
   "source": [
    "***\n",
    "## 3. Saving the Data as a .CSV File"
   ]
  },
  {
   "cell_type": "markdown",
   "metadata": {},
   "source": [
    "Now that the problems associated with the data are ironed out, we can save this version of the file to separate file. The data will be saved to a `.csv` due to its versatility."
   ]
  },
  {
   "cell_type": "code",
   "execution_count": 27,
   "metadata": {
    "collapsed": true
   },
   "outputs": [],
   "source": [
    "df.to_csv('auto-mpg.csv', index=False)"
   ]
  },
  {
   "cell_type": "markdown",
   "metadata": {},
   "source": [
    "When needed, this file can now be loaded using the command `df = pd.read_csv('auto-mpg.csv')` to variable `df`. "
   ]
  }
 ],
 "metadata": {
  "anaconda-cloud": {},
  "kernelspec": {
   "display_name": "Python [conda root]",
   "language": "python",
   "name": "conda-root-py"
  },
  "language_info": {
   "codemirror_mode": {
    "name": "ipython",
    "version": 2
   },
   "file_extension": ".py",
   "mimetype": "text/x-python",
   "name": "python",
   "nbconvert_exporter": "python",
   "pygments_lexer": "ipython2",
   "version": "2.7.12"
  }
 },
 "nbformat": 4,
 "nbformat_minor": 1
}
