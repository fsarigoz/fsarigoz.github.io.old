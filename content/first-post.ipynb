{
 "cells": [
  {
   "cell_type": "markdown",
   "metadata": {},
   "source": [
    "# First Post!\n",
    "\n",
    "This is the first post in my new blog! \n",
    "\n",
    "On this site, I am planning to share my work and experiences in Data Science. \n",
    "\n",
    "This site was prepared using Pelican. I have followed the excellent instructions on this [site](https://www.dataquest.io/blog/how-to-setup-a-data-science-blog/) to make this blog on Github Pages. "
   ]
  }
 ],
 "metadata": {
  "anaconda-cloud": {},
  "kernelspec": {
   "display_name": "Python [conda root]",
   "language": "python",
   "name": "conda-root-py"
  },
  "language_info": {
   "codemirror_mode": {
    "name": "ipython",
    "version": 2
   },
   "file_extension": ".py",
   "mimetype": "text/x-python",
   "name": "python",
   "nbconvert_exporter": "python",
   "pygments_lexer": "ipython2",
   "version": "2.7.12"
  }
 },
 "nbformat": 4,
 "nbformat_minor": 0
}
